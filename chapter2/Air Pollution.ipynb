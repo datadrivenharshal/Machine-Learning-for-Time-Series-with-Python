{
 "cells": [
  {
   "cell_type": "markdown",
   "metadata": {},
   "source": [
    "<a href=\"https://colab.research.google.com/github/PacktPublishing/Machine-Learning-for-Time-Series-with-Python/blob/master/chapter2/Air%20Pollution.ipynb\" target=\"_parent\\\"><img src=\"https://colab.research.google.com/assets/colab-badge.svg\" alt=\"Open In Colab\"/></a>"
   ]
  },
  {
   "cell_type": "code",
   "execution_count": 1,
   "metadata": {},
   "outputs": [],
   "source": [
    "import datetime\n",
    "import pandas as pd\n",
    "import matplotlib.pyplot as plt\n",
    "import seaborn as sns"
   ]
  },
  {
   "cell_type": "code",
   "execution_count": 7,
   "metadata": {},
   "outputs": [],
   "source": [
    "# In pandas you can pass the url directly into read_csv()\n",
    "pollution = pd.read_csv(\n",
    "    'C:\\\\Users\\\\HP\\\\documents\\\\dev\\\\Machine-Learning-for-Time-Series-with-Python\\\\Dataset\\\\Air_pollution_by_city.csv'\n",
    ")"
   ]
  },
  {
   "cell_type": "code",
   "execution_count": 8,
   "metadata": {},
   "outputs": [
    {
     "data": {
      "text/plain": [
       "Index(['Entity', 'Year', 'Smoke (Fouquet and DPCC (2011))',\n",
       "       'Suspended Particulate Matter (SPM) (Fouquet and DPCC (2011))'],\n",
       "      dtype='object')"
      ]
     },
     "execution_count": 8,
     "metadata": {},
     "output_type": "execute_result"
    }
   ],
   "source": [
    "pollution.columns"
   ]
  },
  {
   "cell_type": "code",
   "execution_count": 9,
   "metadata": {},
   "outputs": [
    {
     "data": {
      "application/vnd.microsoft.datawrangler.viewer.v0+json": {
       "columns": [
        {
         "name": "index",
         "rawType": "int64",
         "type": "integer"
        },
        {
         "name": "Entity",
         "rawType": "object",
         "type": "string"
        },
        {
         "name": "Year",
         "rawType": "int64",
         "type": "integer"
        },
        {
         "name": "Smoke (Fouquet and DPCC (2011))",
         "rawType": "float64",
         "type": "float"
        },
        {
         "name": "Suspended Particulate Matter (SPM) (Fouquet and DPCC (2011))",
         "rawType": "float64",
         "type": "float"
        }
       ],
       "ref": "4ec75243-9e39-4885-915d-5fcf85aec4bf",
       "rows": [
        [
         "0",
         "Delhi",
         "1997",
         null,
         "363.0"
        ],
        [
         "1",
         "Delhi",
         "1998",
         null,
         "378.0"
        ],
        [
         "2",
         "Delhi",
         "1999",
         null,
         "375.0"
        ],
        [
         "3",
         "Delhi",
         "2000",
         null,
         "431.0"
        ],
        [
         "4",
         "Delhi",
         "2001",
         null,
         "382.0"
        ]
       ],
       "shape": {
        "columns": 4,
        "rows": 5
       }
      },
      "text/html": [
       "<div>\n",
       "<style scoped>\n",
       "    .dataframe tbody tr th:only-of-type {\n",
       "        vertical-align: middle;\n",
       "    }\n",
       "\n",
       "    .dataframe tbody tr th {\n",
       "        vertical-align: top;\n",
       "    }\n",
       "\n",
       "    .dataframe thead th {\n",
       "        text-align: right;\n",
       "    }\n",
       "</style>\n",
       "<table border=\"1\" class=\"dataframe\">\n",
       "  <thead>\n",
       "    <tr style=\"text-align: right;\">\n",
       "      <th></th>\n",
       "      <th>Entity</th>\n",
       "      <th>Year</th>\n",
       "      <th>Smoke (Fouquet and DPCC (2011))</th>\n",
       "      <th>Suspended Particulate Matter (SPM) (Fouquet and DPCC (2011))</th>\n",
       "    </tr>\n",
       "  </thead>\n",
       "  <tbody>\n",
       "    <tr>\n",
       "      <th>0</th>\n",
       "      <td>Delhi</td>\n",
       "      <td>1997</td>\n",
       "      <td>NaN</td>\n",
       "      <td>363.0</td>\n",
       "    </tr>\n",
       "    <tr>\n",
       "      <th>1</th>\n",
       "      <td>Delhi</td>\n",
       "      <td>1998</td>\n",
       "      <td>NaN</td>\n",
       "      <td>378.0</td>\n",
       "    </tr>\n",
       "    <tr>\n",
       "      <th>2</th>\n",
       "      <td>Delhi</td>\n",
       "      <td>1999</td>\n",
       "      <td>NaN</td>\n",
       "      <td>375.0</td>\n",
       "    </tr>\n",
       "    <tr>\n",
       "      <th>3</th>\n",
       "      <td>Delhi</td>\n",
       "      <td>2000</td>\n",
       "      <td>NaN</td>\n",
       "      <td>431.0</td>\n",
       "    </tr>\n",
       "    <tr>\n",
       "      <th>4</th>\n",
       "      <td>Delhi</td>\n",
       "      <td>2001</td>\n",
       "      <td>NaN</td>\n",
       "      <td>382.0</td>\n",
       "    </tr>\n",
       "  </tbody>\n",
       "</table>\n",
       "</div>"
      ],
      "text/plain": [
       "  Entity  Year  Smoke (Fouquet and DPCC (2011))  \\\n",
       "0  Delhi  1997                              NaN   \n",
       "1  Delhi  1998                              NaN   \n",
       "2  Delhi  1999                              NaN   \n",
       "3  Delhi  2000                              NaN   \n",
       "4  Delhi  2001                              NaN   \n",
       "\n",
       "   Suspended Particulate Matter (SPM) (Fouquet and DPCC (2011))  \n",
       "0                                              363.0             \n",
       "1                                              378.0             \n",
       "2                                              375.0             \n",
       "3                                              431.0             \n",
       "4                                              382.0             "
      ]
     },
     "execution_count": 9,
     "metadata": {},
     "output_type": "execute_result"
    }
   ],
   "source": [
    "pollution.head()"
   ]
  },
  {
   "cell_type": "code",
   "execution_count": 10,
   "metadata": {},
   "outputs": [],
   "source": [
    "pollution = pollution.rename(\n",
    "    columns={\n",
    "        'Suspended Particulate Matter (SPM) (Fouquet and DPCC (2011))': 'SPM',\n",
    "        'Entity': 'City',\n",
    "        'Smoke (Fouquet and DPCC (2011))' : 'Smoke'\n",
    "    }\n",
    ")"
   ]
  },
  {
   "cell_type": "code",
   "execution_count": 11,
   "metadata": {},
   "outputs": [
    {
     "data": {
      "application/vnd.microsoft.datawrangler.viewer.v0+json": {
       "columns": [
        {
         "name": "index",
         "rawType": "object",
         "type": "string"
        },
        {
         "name": "0",
         "rawType": "object",
         "type": "unknown"
        }
       ],
       "ref": "5a0b80f7-3f43-4013-828b-8a107ce6544b",
       "rows": [
        [
         "City",
         "object"
        ],
        [
         "Year",
         "int64"
        ],
        [
         "Smoke",
         "float64"
        ],
        [
         "SPM",
         "float64"
        ]
       ],
       "shape": {
        "columns": 1,
        "rows": 4
       }
      },
      "text/plain": [
       "City      object\n",
       "Year       int64\n",
       "Smoke    float64\n",
       "SPM      float64\n",
       "dtype: object"
      ]
     },
     "execution_count": 11,
     "metadata": {},
     "output_type": "execute_result"
    }
   ],
   "source": [
    "pollution.dtypes"
   ]
  },
  {
   "cell_type": "code",
   "execution_count": 12,
   "metadata": {},
   "outputs": [
    {
     "data": {
      "text/plain": [
       "array(['Delhi', 'London'], dtype=object)"
      ]
     },
     "execution_count": 12,
     "metadata": {},
     "output_type": "execute_result"
    }
   ],
   "source": [
    "pollution['City'].unique()"
   ]
  },
  {
   "cell_type": "code",
   "execution_count": 13,
   "metadata": {},
   "outputs": [
    {
     "data": {
      "text/plain": [
       "(1700, 2016)"
      ]
     },
     "execution_count": 13,
     "metadata": {},
     "output_type": "execute_result"
    }
   ],
   "source": [
    "pollution.Year.min(), pollution.Year.max()"
   ]
  },
  {
   "cell_type": "code",
   "execution_count": 14,
   "metadata": {},
   "outputs": [],
   "source": [
    "# careful: pollution['Year'] = pd.to_datetime(pollution['Year'])\n",
    "# pandas doesn't handle dates before 1900!\n",
    "pollution['Year'] = pollution['Year'].apply(\n",
    "    lambda x: datetime.datetime.strptime(str(x), '%Y')\n",
    ")"
   ]
  },
  {
   "cell_type": "markdown",
   "metadata": {},
   "source": [
    "The apply method is called on the 'Year' column, which applies a function to each element in the column.\n",
    "The function used is a lambda that takes each value x, converts it to a string (in case it's not already), and then parses it using datetime.datetime.strptime with the format '%Y'. This format expects a four-digit year (like '2020').\n",
    "As a result, each entry in the 'Year' column is transformed from an integer or string (e.g., 2020 or '2020') into a datetime object (e.g., datetime.datetime(2020, 1, 1, 0, 0))."
   ]
  },
  {
   "cell_type": "code",
   "execution_count": 15,
   "metadata": {},
   "outputs": [
    {
     "data": {
      "text/plain": [
       "(Timestamp('1700-01-01 00:00:00'), Timestamp('2016-01-01 00:00:00'))"
      ]
     },
     "execution_count": 15,
     "metadata": {},
     "output_type": "execute_result"
    }
   ],
   "source": [
    "pollution.Year.min(), pollution.Year.max()"
   ]
  },
  {
   "cell_type": "code",
   "execution_count": 16,
   "metadata": {},
   "outputs": [
    {
     "data": {
      "application/vnd.microsoft.datawrangler.viewer.v0+json": {
       "columns": [
        {
         "name": "index",
         "rawType": "object",
         "type": "string"
        },
        {
         "name": "0",
         "rawType": "float64",
         "type": "float"
        }
       ],
       "ref": "93fbb659-92a1-479f-9909-a2d9571045b4",
       "rows": [
        [
         "City",
         "0.0"
        ],
        [
         "Year",
         "0.0"
        ],
        [
         "Smoke",
         "0.09063444108761329"
        ],
        [
         "SPM",
         "0.0"
        ]
       ],
       "shape": {
        "columns": 1,
        "rows": 4
       }
      },
      "text/plain": [
       "City     0.000000\n",
       "Year     0.000000\n",
       "Smoke    0.090634\n",
       "SPM      0.000000\n",
       "dtype: float64"
      ]
     },
     "execution_count": 16,
     "metadata": {},
     "output_type": "execute_result"
    }
   ],
   "source": [
    "pollution.isnull().sum() / len(pollution)"
   ]
  },
  {
   "cell_type": "code",
   "execution_count": 17,
   "metadata": {},
   "outputs": [
    {
     "data": {
      "application/vnd.microsoft.datawrangler.viewer.v0+json": {
       "columns": [
        {
         "name": "index",
         "rawType": "object",
         "type": "string"
        },
        {
         "name": "Year",
         "rawType": "object",
         "type": "unknown"
        },
        {
         "name": "Smoke",
         "rawType": "float64",
         "type": "float"
        },
        {
         "name": "SPM",
         "rawType": "float64",
         "type": "float"
        }
       ],
       "ref": "61889caa-d329-4cdd-9416-7fbefab861d3",
       "rows": [
        [
         "count",
         "331",
         "301.0",
         "331.0"
        ],
        [
         "mean",
         "1864-02-26 13:37:53.111782400",
         "210.29644043657808",
         "365.97004982954684"
        ],
        [
         "min",
         "1700-01-01 00:00:00",
         "13.75",
         "15.0"
        ],
        [
         "25%",
         "1782-07-02 12:00:00",
         "168.5714286",
         "288.47402595"
        ],
        [
         "50%",
         "1865-01-01 00:00:00",
         "208.2142857",
         "375.3246753"
        ],
        [
         "75%",
         "1947-07-02 12:00:00",
         "291.8181818",
         "512.609209"
        ],
        [
         "max",
         "2016-01-01 00:00:00",
         "342.8571429",
         "623.3766234"
        ],
        [
         "std",
         null,
         "88.54328797001432",
         "172.5126742337693"
        ]
       ],
       "shape": {
        "columns": 3,
        "rows": 8
       }
      },
      "text/html": [
       "<div>\n",
       "<style scoped>\n",
       "    .dataframe tbody tr th:only-of-type {\n",
       "        vertical-align: middle;\n",
       "    }\n",
       "\n",
       "    .dataframe tbody tr th {\n",
       "        vertical-align: top;\n",
       "    }\n",
       "\n",
       "    .dataframe thead th {\n",
       "        text-align: right;\n",
       "    }\n",
       "</style>\n",
       "<table border=\"1\" class=\"dataframe\">\n",
       "  <thead>\n",
       "    <tr style=\"text-align: right;\">\n",
       "      <th></th>\n",
       "      <th>Year</th>\n",
       "      <th>Smoke</th>\n",
       "      <th>SPM</th>\n",
       "    </tr>\n",
       "  </thead>\n",
       "  <tbody>\n",
       "    <tr>\n",
       "      <th>count</th>\n",
       "      <td>331</td>\n",
       "      <td>301.000000</td>\n",
       "      <td>331.000000</td>\n",
       "    </tr>\n",
       "    <tr>\n",
       "      <th>mean</th>\n",
       "      <td>1864-02-26 13:37:53.111782400</td>\n",
       "      <td>210.296440</td>\n",
       "      <td>365.970050</td>\n",
       "    </tr>\n",
       "    <tr>\n",
       "      <th>min</th>\n",
       "      <td>1700-01-01 00:00:00</td>\n",
       "      <td>13.750000</td>\n",
       "      <td>15.000000</td>\n",
       "    </tr>\n",
       "    <tr>\n",
       "      <th>25%</th>\n",
       "      <td>1782-07-02 12:00:00</td>\n",
       "      <td>168.571429</td>\n",
       "      <td>288.474026</td>\n",
       "    </tr>\n",
       "    <tr>\n",
       "      <th>50%</th>\n",
       "      <td>1865-01-01 00:00:00</td>\n",
       "      <td>208.214286</td>\n",
       "      <td>375.324675</td>\n",
       "    </tr>\n",
       "    <tr>\n",
       "      <th>75%</th>\n",
       "      <td>1947-07-02 12:00:00</td>\n",
       "      <td>291.818182</td>\n",
       "      <td>512.609209</td>\n",
       "    </tr>\n",
       "    <tr>\n",
       "      <th>max</th>\n",
       "      <td>2016-01-01 00:00:00</td>\n",
       "      <td>342.857143</td>\n",
       "      <td>623.376623</td>\n",
       "    </tr>\n",
       "    <tr>\n",
       "      <th>std</th>\n",
       "      <td>NaN</td>\n",
       "      <td>88.543288</td>\n",
       "      <td>172.512674</td>\n",
       "    </tr>\n",
       "  </tbody>\n",
       "</table>\n",
       "</div>"
      ],
      "text/plain": [
       "                                Year       Smoke         SPM\n",
       "count                            331  301.000000  331.000000\n",
       "mean   1864-02-26 13:37:53.111782400  210.296440  365.970050\n",
       "min              1700-01-01 00:00:00   13.750000   15.000000\n",
       "25%              1782-07-02 12:00:00  168.571429  288.474026\n",
       "50%              1865-01-01 00:00:00  208.214286  375.324675\n",
       "75%              1947-07-02 12:00:00  291.818182  512.609209\n",
       "max              2016-01-01 00:00:00  342.857143  623.376623\n",
       "std                              NaN   88.543288  172.512674"
      ]
     },
     "execution_count": 17,
     "metadata": {},
     "output_type": "execute_result"
    }
   ],
   "source": [
    "pollution.describe()"
   ]
  },
  {
   "cell_type": "markdown",
   "metadata": {},
   "source": [
    "This code creates a histogram to visualize the distribution of Suspended Particulate Matter (SPM) values from the pollution DataFrame. The plt.hist function is used to plot the histogram, where the x parameter is set to the 'SPM' column. The bins='auto' argument lets matplotlib automatically determine the optimal number of bins based on the data. The alpha=0.7 parameter sets the transparency of the bars, making them slightly see-through, and rwidth=0.85 adjusts the relative width of the bars to leave some space between them for better readability.\n",
    "\n",
    "The output of plt.hist is unpacked into three variables: n (the counts in each bin), bins (the bin edges), and patches (the graphical representations of the bars). After plotting the histogram, plt.grid(axis='y', alpha=0.75) adds a semi-transparent grid along the y-axis to make it easier to read the frequencies. Finally, plt.xlabel('SPM') and plt.ylabel('Frequency') label the x-axis and y-axis, respectively, making the plot more informative and easier to interpret. This visualization helps you quickly understand how SPM values are distributed in your dataset."
   ]
  },
  {
   "cell_type": "code",
   "execution_count": 18,
   "metadata": {},
   "outputs": [
    {
     "data": {
      "text/plain": [
       "Text(0, 0.5, 'Frequency')"
      ]
     },
     "execution_count": 18,
     "metadata": {},
     "output_type": "execute_result"
    },
    {
     "data": {
      "image/png": "[encoded data removed]",
      "text/plain": [
       "<Figure size 640x480 with 1 Axes>"
      ]
     },
     "metadata": {},
     "output_type": "display_data"
    }
   ],
   "source": [
    "import numpy as np\n",
    "n, bins, patches = plt.hist(\n",
    "    x=pollution['SPM'], bins='auto',\n",
    "    alpha=0.7, rwidth=0.85\n",
    ")\n",
    "plt.grid(axis='y', alpha=0.75)\n",
    "plt.xlabel('SPM')\n",
    "plt.ylabel('Frequency')"
   ]
  },
  {
   "cell_type": "markdown",
   "metadata": {},
   "source": [
    "This code creates a detailed visualization to explore the relationship between the 'Smoke' and 'SPM' (Suspended Particulate Matter) columns in the pollution DataFrame. First, plt.figure(figsize=(12, 6)) sets up a new figure with a width of 12 inches and a height of 6 inches, ensuring the plot has ample space for clarity.\n",
    "\n",
    "Next, sns.jointplot from the seaborn library generates a joint plot, which combines a scatter plot of 'Smoke' versus 'SPM' with histograms (or density plots) of each variable along the top and right margins. The edgecolor='white' argument makes the edges of the scatter points white, improving their visibility, especially when points overlap. The data=pollution argument tells seaborn to use the pollution DataFrame as the data source.\n",
    "\n",
    "Finally, plt.xlabel('Smoke') and plt.ylabel('SPM') label the x-axis and y-axis, respectively, making the plot easier to interpret. This visualization is useful for quickly assessing both the correlation between 'Smoke' and 'SPM' and the distribution of each variable individually. One subtle point is that sns.jointplot creates its own figure, so the explicit call to plt.figure is not strictly necessary and may not affect the joint plot as intended."
   ]
  },
  {
   "cell_type": "code",
   "execution_count": 19,
   "metadata": {},
   "outputs": [
    {
     "data": {
      "text/plain": [
       "<Figure size 1200x600 with 0 Axes>"
      ]
     },
     "metadata": {},
     "output_type": "display_data"
    },
    {
     "data": {
      "image/png": "[encoded data removed]",
      "text/plain": [
       "<Figure size 600x600 with 3 Axes>"
      ]
     },
     "metadata": {},
     "output_type": "display_data"
    }
   ],
   "source": [
    "plt.figure(figsize=(12, 6))\n",
    "sns.jointplot(\n",
    "    x='Smoke', y='SPM',\n",
    "    edgecolor='white',\n",
    "    data=pollution\n",
    ")\n",
    "plt.xlabel('Smoke')\n",
    "plt.ylabel('SPM');"
   ]
  },
  {
   "cell_type": "markdown",
   "metadata": {},
   "source": [
    "In the scatter plt, two variables are extremely similar - the values are all on the diagonal, the correlation between these two variables is perfect 1.0, which means that they are in fact identical."
   ]
  },
  {
   "cell_type": "code",
   "execution_count": 20,
   "metadata": {},
   "outputs": [
    {
     "data": {
      "text/plain": [
       "PearsonRResult(statistic=1.0, pvalue=0.0)"
      ]
     },
     "execution_count": 20,
     "metadata": {},
     "output_type": "execute_result"
    }
   ],
   "source": [
    "from scipy import stats\n",
    "\n",
    "\n",
    "def ignore_nans(a, b):\n",
    "    index = ~a.isnull() & ~b.isnull()\n",
    "    return a[index], b[index]\n",
    "\n",
    "stats.pearsonr(*ignore_nans(pollution['Smoke'], pollution['SPM']))"
   ]
  },
  {
   "cell_type": "code",
   "execution_count": 21,
   "metadata": {},
   "outputs": [
    {
     "data": {
      "application/vnd.microsoft.datawrangler.viewer.v0+json": {
       "columns": [
        {
         "name": "index",
         "rawType": "object",
         "type": "string"
        },
        {
         "name": "0",
         "rawType": "object",
         "type": "unknown"
        }
       ],
       "ref": "9c496d36-f0bf-4f7e-b8f0-08e1e3a75a6b",
       "rows": [
        [
         "City",
         "object"
        ],
        [
         "Year",
         "datetime64[ns]"
        ],
        [
         "Smoke",
         "float64"
        ],
        [
         "SPM",
         "float64"
        ]
       ],
       "shape": {
        "columns": 1,
        "rows": 4
       }
      },
      "text/plain": [
       "City             object\n",
       "Year     datetime64[ns]\n",
       "Smoke           float64\n",
       "SPM             float64\n",
       "dtype: object"
      ]
     },
     "execution_count": 21,
     "metadata": {},
     "output_type": "execute_result"
    }
   ],
   "source": [
    "pollution.dtypes"
   ]
  },
  {
   "cell_type": "code",
   "execution_count": 22,
   "metadata": {},
   "outputs": [
    {
     "data": {
      "image/png": "[encoded data removed]",
      "text/plain": [
       "<Figure size 1200x600 with 1 Axes>"
      ]
     },
     "metadata": {},
     "output_type": "display_data"
    }
   ],
   "source": [
    "pollution = pollution.pivot(index=\"Year\", columns=\"City\", values=\"SPM\")\n",
    "plt.figure(figsize=(12, 6))\n",
    "sns.lineplot(data=pollution)\n",
    "plt.ylabel('SPM');"
   ]
  },
  {
   "cell_type": "markdown",
   "metadata": {},
   "source": [
    "autocorrelation plot shows how the values in a time series are correlated with their own past values at different lags. Peaks in the plot indicate strong relationships between current and past values at specific time intervals. This type of plot is useful for identifying repeating patterns, trends, or seasonality in time series data, and can help inform further modeling or forecasting steps. The plot also includes confidence bands, which help you judge whether the observed correlations are statistically significant."
   ]
  },
  {
   "cell_type": "code",
   "execution_count": 23,
   "metadata": {},
   "outputs": [
    {
     "data": {
      "image/png": "[encoded data removed]",
      "text/plain": [
       "<Figure size 1200x600 with 1 Axes>"
      ]
     },
     "metadata": {},
     "output_type": "display_data"
    }
   ],
   "source": [
    "plt.figure(figsize=(12, 6))\n",
    "pd.plotting.autocorrelation_plot(pollution['London']);"
   ]
  },
  {
   "cell_type": "code",
   "execution_count": 24,
   "metadata": {},
   "outputs": [
    {
     "data": {
      "text/plain": [
       "(-0.3372164080424387,\n",
       " 0.9200654843183882,\n",
       " 13,\n",
       " 303,\n",
       " {'1%': -3.4521175397304784,\n",
       "  '5%': -2.8711265007266666,\n",
       "  '10%': -2.571877823851692},\n",
       " 1684.699266349387)"
      ]
     },
     "execution_count": 24,
     "metadata": {},
     "output_type": "execute_result"
    }
   ],
   "source": [
    "from statsmodels.tsa import stattools\n",
    "\n",
    "stattools.adfuller(pollution['London'])"
   ]
  },
  {
   "cell_type": "code",
   "execution_count": 25,
   "metadata": {},
   "outputs": [
    {
     "data": {
      "text/plain": [
       "PearsonRResult(statistic=-0.0013835903002221393, pvalue=0.9804244126809252)"
      ]
     },
     "execution_count": 25,
     "metadata": {},
     "output_type": "execute_result"
    }
   ],
   "source": [
    "from scipy import stats\n",
    "\n",
    "stats.pearsonr(pollution['London'], pollution.index.values.astype(int))"
   ]
  },
  {
   "cell_type": "code",
   "execution_count": 26,
   "metadata": {},
   "outputs": [
    {
     "data": {
      "text/plain": [
       "SignificanceResult(statistic=0.0003333436217167196, pvalue=0.9964565130656107)"
      ]
     },
     "execution_count": 26,
     "metadata": {},
     "output_type": "execute_result"
    }
   ],
   "source": [
    "stats.spearmanr(pollution['London'][:180], pollution.index.values.astype(int)[:180])"
   ]
  }
 ],
 "metadata": {
  "kernelspec": {
   "display_name": "Python 3 (ipykernel)",
   "language": "python",
   "name": "python3"
  }
 },
 "nbformat": 4,
 "nbformat_minor": 4
}
