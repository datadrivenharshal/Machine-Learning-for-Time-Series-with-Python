{
 "cells": [
  {
   "cell_type": "markdown",
   "id": "9463c1a1",
   "metadata": {},
   "source": [
    "Time Series Forcasting for Shivajinagar region(2017-2022) PM2.5"
   ]
  },
  {
   "cell_type": "markdown",
   "id": "f941878f",
   "metadata": {},
   "source": [
    "# Step 1: Loading Data & Necessary Library import "
   ]
  },
  {
   "cell_type": "code",
   "execution_count": 3,
   "id": "db7a214c",
   "metadata": {},
   "outputs": [],
   "source": [
    "import pandas as pd\n",
    "import numpy as np\n",
    "import matplotlib.pyplot as plt\n",
    "import seaborn as sns\n",
    "from numpy import polyfit"
   ]
  },
  {
   "cell_type": "code",
   "execution_count": 4,
   "id": "86bcb741",
   "metadata": {},
   "outputs": [],
   "source": [
    "data = pd.read_csv(\n",
    "    'C:\\\\Users\\\\HP\\\\documents\\\\dev\\\\Machine-Learning-for-Time-Series-with-Python\\\\Dataset\\\\Shivajinagar_2017_2022.csv'\n",
    ")"
   ]
  },
  {
   "cell_type": "code",
   "execution_count": 5,
   "id": "a826ecd8",
   "metadata": {},
   "outputs": [
    {
     "data": {
      "application/vnd.microsoft.datawrangler.viewer.v0+json": {
       "columns": [
        {
         "name": "index",
         "rawType": "int64",
         "type": "integer"
        },
        {
         "name": "Datetime",
         "rawType": "object",
         "type": "string"
        },
        {
         "name": "PM10",
         "rawType": "float64",
         "type": "float"
        },
        {
         "name": "PM2.5",
         "rawType": "float64",
         "type": "float"
        },
        {
         "name": "BLH",
         "rawType": "float64",
         "type": "float"
        },
        {
         "name": "RAIN",
         "rawType": "float64",
         "type": "float"
        },
        {
         "name": "PRE",
         "rawType": "float64",
         "type": "float"
        },
        {
         "name": "TD",
         "rawType": "float64",
         "type": "float"
        },
        {
         "name": "T",
         "rawType": "float64",
         "type": "float"
        },
        {
         "name": "V10",
         "rawType": "float64",
         "type": "float"
        },
        {
         "name": "U10",
         "rawType": "float64",
         "type": "float"
        }
       ],
       "ref": "6e19bc2f-4abc-455b-8b4b-663964ac13ee",
       "rows": [
        [
         "0",
         "01-01-2017 00:00",
         "186.96",
         "60.38",
         "15.617772",
         "0.0",
         "93739.06",
         "284.0254",
         "288.18402",
         "-0.047830522",
         "-1.2044659"
        ],
        [
         "1",
         "01-01-2017 01:00",
         "157.0",
         "47.24",
         "16.8536",
         "0.0",
         "93779.06",
         "283.98352",
         "288.19727",
         "0.08342105",
         "-1.350976"
        ],
        [
         "2",
         "01-01-2017 02:00",
         "145.43",
         "41.26",
         "20.318794",
         "0.0",
         "93837.625",
         "284.61523",
         "289.20184",
         "0.26002407",
         "-1.5726013"
        ],
        [
         "3",
         "01-01-2017 03:00",
         "127.09",
         "33.59",
         "38.729538",
         "0.0",
         "93961.06",
         "284.42792",
         "289.68146",
         "0.14488995",
         "-1.6894331"
        ],
        [
         "4",
         "01-01-2017 04:00",
         "96.67",
         "25.62",
         "157.68481",
         "0.0",
         "94006.94",
         "286.06256",
         "294.1941",
         "0.091926575",
         "-1.3387766"
        ]
       ],
       "shape": {
        "columns": 10,
        "rows": 5
       }
      },
      "text/html": [
       "<div>\n",
       "<style scoped>\n",
       "    .dataframe tbody tr th:only-of-type {\n",
       "        vertical-align: middle;\n",
       "    }\n",
       "\n",
       "    .dataframe tbody tr th {\n",
       "        vertical-align: top;\n",
       "    }\n",
       "\n",
       "    .dataframe thead th {\n",
       "        text-align: right;\n",
       "    }\n",
       "</style>\n",
       "<table border=\"1\" class=\"dataframe\">\n",
       "  <thead>\n",
       "    <tr style=\"text-align: right;\">\n",
       "      <th></th>\n",
       "      <th>Datetime</th>\n",
       "      <th>PM10</th>\n",
       "      <th>PM2.5</th>\n",
       "      <th>BLH</th>\n",
       "      <th>RAIN</th>\n",
       "      <th>PRE</th>\n",
       "      <th>TD</th>\n",
       "      <th>T</th>\n",
       "      <th>V10</th>\n",
       "      <th>U10</th>\n",
       "    </tr>\n",
       "  </thead>\n",
       "  <tbody>\n",
       "    <tr>\n",
       "      <th>0</th>\n",
       "      <td>01-01-2017 00:00</td>\n",
       "      <td>186.96</td>\n",
       "      <td>60.38</td>\n",
       "      <td>15.617772</td>\n",
       "      <td>0.0</td>\n",
       "      <td>93739.060</td>\n",
       "      <td>284.02540</td>\n",
       "      <td>288.18402</td>\n",
       "      <td>-0.047831</td>\n",
       "      <td>-1.204466</td>\n",
       "    </tr>\n",
       "    <tr>\n",
       "      <th>1</th>\n",
       "      <td>01-01-2017 01:00</td>\n",
       "      <td>157.00</td>\n",
       "      <td>47.24</td>\n",
       "      <td>16.853600</td>\n",
       "      <td>0.0</td>\n",
       "      <td>93779.060</td>\n",
       "      <td>283.98352</td>\n",
       "      <td>288.19727</td>\n",
       "      <td>0.083421</td>\n",
       "      <td>-1.350976</td>\n",
       "    </tr>\n",
       "    <tr>\n",
       "      <th>2</th>\n",
       "      <td>01-01-2017 02:00</td>\n",
       "      <td>145.43</td>\n",
       "      <td>41.26</td>\n",
       "      <td>20.318794</td>\n",
       "      <td>0.0</td>\n",
       "      <td>93837.625</td>\n",
       "      <td>284.61523</td>\n",
       "      <td>289.20184</td>\n",
       "      <td>0.260024</td>\n",
       "      <td>-1.572601</td>\n",
       "    </tr>\n",
       "    <tr>\n",
       "      <th>3</th>\n",
       "      <td>01-01-2017 03:00</td>\n",
       "      <td>127.09</td>\n",
       "      <td>33.59</td>\n",
       "      <td>38.729538</td>\n",
       "      <td>0.0</td>\n",
       "      <td>93961.060</td>\n",
       "      <td>284.42792</td>\n",
       "      <td>289.68146</td>\n",
       "      <td>0.144890</td>\n",
       "      <td>-1.689433</td>\n",
       "    </tr>\n",
       "    <tr>\n",
       "      <th>4</th>\n",
       "      <td>01-01-2017 04:00</td>\n",
       "      <td>96.67</td>\n",
       "      <td>25.62</td>\n",
       "      <td>157.684810</td>\n",
       "      <td>0.0</td>\n",
       "      <td>94006.940</td>\n",
       "      <td>286.06256</td>\n",
       "      <td>294.19410</td>\n",
       "      <td>0.091927</td>\n",
       "      <td>-1.338777</td>\n",
       "    </tr>\n",
       "  </tbody>\n",
       "</table>\n",
       "</div>"
      ],
      "text/plain": [
       "           Datetime    PM10  PM2.5         BLH  RAIN        PRE         TD  \\\n",
       "0  01-01-2017 00:00  186.96  60.38   15.617772   0.0  93739.060  284.02540   \n",
       "1  01-01-2017 01:00  157.00  47.24   16.853600   0.0  93779.060  283.98352   \n",
       "2  01-01-2017 02:00  145.43  41.26   20.318794   0.0  93837.625  284.61523   \n",
       "3  01-01-2017 03:00  127.09  33.59   38.729538   0.0  93961.060  284.42792   \n",
       "4  01-01-2017 04:00   96.67  25.62  157.684810   0.0  94006.940  286.06256   \n",
       "\n",
       "           T       V10       U10  \n",
       "0  288.18402 -0.047831 -1.204466  \n",
       "1  288.19727  0.083421 -1.350976  \n",
       "2  289.20184  0.260024 -1.572601  \n",
       "3  289.68146  0.144890 -1.689433  \n",
       "4  294.19410  0.091927 -1.338777  "
      ]
     },
     "execution_count": 5,
     "metadata": {},
     "output_type": "execute_result"
    }
   ],
   "source": [
    "data.head(5)"
   ]
  },
  {
   "cell_type": "code",
   "execution_count": 6,
   "id": "f589c56d",
   "metadata": {},
   "outputs": [
    {
     "data": {
      "application/vnd.microsoft.datawrangler.viewer.v0+json": {
       "columns": [
        {
         "name": "index",
         "rawType": "object",
         "type": "string"
        },
        {
         "name": "0",
         "rawType": "object",
         "type": "unknown"
        }
       ],
       "ref": "960aa443-dd51-4299-90d7-6d33ea26c986",
       "rows": [
        [
         "Datetime",
         "object"
        ],
        [
         "PM10",
         "float64"
        ],
        [
         "PM2.5",
         "float64"
        ],
        [
         "BLH",
         "float64"
        ],
        [
         "RAIN",
         "float64"
        ],
        [
         "PRE",
         "float64"
        ],
        [
         "TD",
         "float64"
        ],
        [
         "T",
         "float64"
        ],
        [
         "V10",
         "float64"
        ],
        [
         "U10",
         "float64"
        ]
       ],
       "shape": {
        "columns": 1,
        "rows": 10
       }
      },
      "text/plain": [
       "Datetime     object\n",
       "PM10        float64\n",
       "PM2.5       float64\n",
       "BLH         float64\n",
       "RAIN        float64\n",
       "PRE         float64\n",
       "TD          float64\n",
       "T           float64\n",
       "V10         float64\n",
       "U10         float64\n",
       "dtype: object"
      ]
     },
     "execution_count": 6,
     "metadata": {},
     "output_type": "execute_result"
    }
   ],
   "source": [
    "data.dtypes"
   ]
  },
  {
   "cell_type": "code",
   "execution_count": 7,
   "id": "ed412814",
   "metadata": {},
   "outputs": [
    {
     "data": {
      "text/plain": [
       "Index(['Datetime', 'PM10', 'PM2.5', 'BLH', 'RAIN', 'PRE', 'TD', 'T', 'V10',\n",
       "       'U10'],\n",
       "      dtype='object')"
      ]
     },
     "execution_count": 7,
     "metadata": {},
     "output_type": "execute_result"
    }
   ],
   "source": [
    "data.columns"
   ]
  },
  {
   "cell_type": "code",
   "execution_count": 9,
   "id": "868d0464",
   "metadata": {},
   "outputs": [],
   "source": [
    "data['Datetime'] = pd.to_datetime(data['Datetime'], dayfirst=True)"
   ]
  },
  {
   "cell_type": "code",
   "execution_count": 10,
   "id": "7530de9f",
   "metadata": {},
   "outputs": [
    {
     "data": {
      "application/vnd.microsoft.datawrangler.viewer.v0+json": {
       "columns": [
        {
         "name": "index",
         "rawType": "int64",
         "type": "integer"
        },
        {
         "name": "Datetime",
         "rawType": "datetime64[ns]",
         "type": "datetime"
        },
        {
         "name": "PM10",
         "rawType": "float64",
         "type": "float"
        },
        {
         "name": "PM2.5",
         "rawType": "float64",
         "type": "float"
        },
        {
         "name": "BLH",
         "rawType": "float64",
         "type": "float"
        },
        {
         "name": "RAIN",
         "rawType": "float64",
         "type": "float"
        },
        {
         "name": "PRE",
         "rawType": "float64",
         "type": "float"
        },
        {
         "name": "TD",
         "rawType": "float64",
         "type": "float"
        },
        {
         "name": "T",
         "rawType": "float64",
         "type": "float"
        },
        {
         "name": "V10",
         "rawType": "float64",
         "type": "float"
        },
        {
         "name": "U10",
         "rawType": "float64",
         "type": "float"
        }
       ],
       "ref": "b7eae839-355e-46b2-8cde-b1493e3a3501",
       "rows": [
        [
         "0",
         "2017-01-01 00:00:00",
         "186.96",
         "60.38",
         "15.617772",
         "0.0",
         "93739.06",
         "284.0254",
         "288.18402",
         "-0.047830522",
         "-1.2044659"
        ],
        [
         "1",
         "2017-01-01 01:00:00",
         "157.0",
         "47.24",
         "16.8536",
         "0.0",
         "93779.06",
         "283.98352",
         "288.19727",
         "0.08342105",
         "-1.350976"
        ],
        [
         "2",
         "2017-01-01 02:00:00",
         "145.43",
         "41.26",
         "20.318794",
         "0.0",
         "93837.625",
         "284.61523",
         "289.20184",
         "0.26002407",
         "-1.5726013"
        ],
        [
         "3",
         "2017-01-01 03:00:00",
         "127.09",
         "33.59",
         "38.729538",
         "0.0",
         "93961.06",
         "284.42792",
         "289.68146",
         "0.14488995",
         "-1.6894331"
        ],
        [
         "4",
         "2017-01-01 04:00:00",
         "96.67",
         "25.62",
         "157.68481",
         "0.0",
         "94006.94",
         "286.06256",
         "294.1941",
         "0.091926575",
         "-1.3387766"
        ]
       ],
       "shape": {
        "columns": 10,
        "rows": 5
       }
      },
      "text/html": [
       "<div>\n",
       "<style scoped>\n",
       "    .dataframe tbody tr th:only-of-type {\n",
       "        vertical-align: middle;\n",
       "    }\n",
       "\n",
       "    .dataframe tbody tr th {\n",
       "        vertical-align: top;\n",
       "    }\n",
       "\n",
       "    .dataframe thead th {\n",
       "        text-align: right;\n",
       "    }\n",
       "</style>\n",
       "<table border=\"1\" class=\"dataframe\">\n",
       "  <thead>\n",
       "    <tr style=\"text-align: right;\">\n",
       "      <th></th>\n",
       "      <th>Datetime</th>\n",
       "      <th>PM10</th>\n",
       "      <th>PM2.5</th>\n",
       "      <th>BLH</th>\n",
       "      <th>RAIN</th>\n",
       "      <th>PRE</th>\n",
       "      <th>TD</th>\n",
       "      <th>T</th>\n",
       "      <th>V10</th>\n",
       "      <th>U10</th>\n",
       "    </tr>\n",
       "  </thead>\n",
       "  <tbody>\n",
       "    <tr>\n",
       "      <th>0</th>\n",
       "      <td>2017-01-01 00:00:00</td>\n",
       "      <td>186.96</td>\n",
       "      <td>60.38</td>\n",
       "      <td>15.617772</td>\n",
       "      <td>0.0</td>\n",
       "      <td>93739.060</td>\n",
       "      <td>284.02540</td>\n",
       "      <td>288.18402</td>\n",
       "      <td>-0.047831</td>\n",
       "      <td>-1.204466</td>\n",
       "    </tr>\n",
       "    <tr>\n",
       "      <th>1</th>\n",
       "      <td>2017-01-01 01:00:00</td>\n",
       "      <td>157.00</td>\n",
       "      <td>47.24</td>\n",
       "      <td>16.853600</td>\n",
       "      <td>0.0</td>\n",
       "      <td>93779.060</td>\n",
       "      <td>283.98352</td>\n",
       "      <td>288.19727</td>\n",
       "      <td>0.083421</td>\n",
       "      <td>-1.350976</td>\n",
       "    </tr>\n",
       "    <tr>\n",
       "      <th>2</th>\n",
       "      <td>2017-01-01 02:00:00</td>\n",
       "      <td>145.43</td>\n",
       "      <td>41.26</td>\n",
       "      <td>20.318794</td>\n",
       "      <td>0.0</td>\n",
       "      <td>93837.625</td>\n",
       "      <td>284.61523</td>\n",
       "      <td>289.20184</td>\n",
       "      <td>0.260024</td>\n",
       "      <td>-1.572601</td>\n",
       "    </tr>\n",
       "    <tr>\n",
       "      <th>3</th>\n",
       "      <td>2017-01-01 03:00:00</td>\n",
       "      <td>127.09</td>\n",
       "      <td>33.59</td>\n",
       "      <td>38.729538</td>\n",
       "      <td>0.0</td>\n",
       "      <td>93961.060</td>\n",
       "      <td>284.42792</td>\n",
       "      <td>289.68146</td>\n",
       "      <td>0.144890</td>\n",
       "      <td>-1.689433</td>\n",
       "    </tr>\n",
       "    <tr>\n",
       "      <th>4</th>\n",
       "      <td>2017-01-01 04:00:00</td>\n",
       "      <td>96.67</td>\n",
       "      <td>25.62</td>\n",
       "      <td>157.684810</td>\n",
       "      <td>0.0</td>\n",
       "      <td>94006.940</td>\n",
       "      <td>286.06256</td>\n",
       "      <td>294.19410</td>\n",
       "      <td>0.091927</td>\n",
       "      <td>-1.338777</td>\n",
       "    </tr>\n",
       "  </tbody>\n",
       "</table>\n",
       "</div>"
      ],
      "text/plain": [
       "             Datetime    PM10  PM2.5         BLH  RAIN        PRE         TD  \\\n",
       "0 2017-01-01 00:00:00  186.96  60.38   15.617772   0.0  93739.060  284.02540   \n",
       "1 2017-01-01 01:00:00  157.00  47.24   16.853600   0.0  93779.060  283.98352   \n",
       "2 2017-01-01 02:00:00  145.43  41.26   20.318794   0.0  93837.625  284.61523   \n",
       "3 2017-01-01 03:00:00  127.09  33.59   38.729538   0.0  93961.060  284.42792   \n",
       "4 2017-01-01 04:00:00   96.67  25.62  157.684810   0.0  94006.940  286.06256   \n",
       "\n",
       "           T       V10       U10  \n",
       "0  288.18402 -0.047831 -1.204466  \n",
       "1  288.19727  0.083421 -1.350976  \n",
       "2  289.20184  0.260024 -1.572601  \n",
       "3  289.68146  0.144890 -1.689433  \n",
       "4  294.19410  0.091927 -1.338777  "
      ]
     },
     "execution_count": 10,
     "metadata": {},
     "output_type": "execute_result"
    }
   ],
   "source": [
    "data.head(5)"
   ]
  },
  {
   "cell_type": "code",
   "execution_count": 11,
   "id": "730b6f1b",
   "metadata": {},
   "outputs": [
    {
     "data": {
      "text/plain": [
       "(Timestamp('2017-01-01 00:00:00'), Timestamp('2022-12-31 23:00:00'))"
      ]
     },
     "execution_count": 11,
     "metadata": {},
     "output_type": "execute_result"
    }
   ],
   "source": [
    "data.Datetime.min(), data.Datetime.max()"
   ]
  },
  {
   "cell_type": "code",
   "execution_count": 12,
   "id": "b68b1b2c",
   "metadata": {},
   "outputs": [
    {
     "data": {
      "application/vnd.microsoft.datawrangler.viewer.v0+json": {
       "columns": [
        {
         "name": "index",
         "rawType": "object",
         "type": "string"
        },
        {
         "name": "Datetime",
         "rawType": "object",
         "type": "unknown"
        },
        {
         "name": "PM10",
         "rawType": "float64",
         "type": "float"
        },
        {
         "name": "PM2.5",
         "rawType": "float64",
         "type": "float"
        },
        {
         "name": "BLH",
         "rawType": "float64",
         "type": "float"
        },
        {
         "name": "RAIN",
         "rawType": "float64",
         "type": "float"
        },
        {
         "name": "PRE",
         "rawType": "float64",
         "type": "float"
        },
        {
         "name": "TD",
         "rawType": "float64",
         "type": "float"
        },
        {
         "name": "T",
         "rawType": "float64",
         "type": "float"
        },
        {
         "name": "V10",
         "rawType": "float64",
         "type": "float"
        },
        {
         "name": "U10",
         "rawType": "float64",
         "type": "float"
        }
       ],
       "ref": "645d6ae8-819c-4041-9ff8-77bb21691716",
       "rows": [
        [
         "count",
         "52584",
         "50269.0",
         "50268.0",
         "52584.0",
         "52584.0",
         "52584.0",
         "52584.0",
         "52584.0",
         "52584.0",
         "52584.0"
        ],
        [
         "mean",
         "2020-01-01 11:30:00",
         "87.56583858839443",
         "58.067052200206895",
         "574.7778632341586",
         "0.00019336916260519546",
         "93505.84295118289",
         "291.1666017547163",
         "297.37568144930015",
         "0.10651480470422942",
         "0.9746183814687738"
        ],
        [
         "min",
         "2017-01-01 00:00:00",
         "0.0",
         "2.65",
         "11.374372",
         "0.0",
         "91961.69",
         "271.63623",
         "281.32092",
         "-3.962082",
         "-10.056665"
        ],
        [
         "25%",
         "2018-07-02 17:45:00",
         "48.5",
         "32.65",
         "89.935685",
         "0.0",
         "93265.985",
         "287.49326499999995",
         "295.1212025",
         "-0.63808108",
         "-1.075553425"
        ],
        [
         "50%",
         "2020-01-01 11:30:00",
         "79.04",
         "51.93",
         "395.61267",
         "0.0",
         "93525.56",
         "292.78369",
         "296.94890999999996",
         "-0.0159751175",
         "1.2831062"
        ],
        [
         "75%",
         "2021-07-02 05:15:00",
         "115.76",
         "76.45",
         "766.22051",
         "0.00010732875",
         "93761.89125",
         "295.0946",
         "299.9014825",
         "0.79282743",
         "2.710442075"
        ],
        [
         "max",
         "2022-12-31 23:00:00",
         "932.19",
         "660.77",
         "4058.4702",
         "0.017602015",
         "94555.69",
         "298.62085",
         "313.125",
         "9.05189",
         "8.639411"
        ],
        [
         "std",
         null,
         "50.77857963974828",
         "33.872271715828795",
         "636.0174955651554",
         "0.0006212447664885144",
         "339.2357025523314",
         "4.574261184569149",
         "4.455867729625891",
         "1.0994824465387985",
         "2.3925916445213375"
        ]
       ],
       "shape": {
        "columns": 10,
        "rows": 8
       }
      },
      "text/html": [
       "<div>\n",
       "<style scoped>\n",
       "    .dataframe tbody tr th:only-of-type {\n",
       "        vertical-align: middle;\n",
       "    }\n",
       "\n",
       "    .dataframe tbody tr th {\n",
       "        vertical-align: top;\n",
       "    }\n",
       "\n",
       "    .dataframe thead th {\n",
       "        text-align: right;\n",
       "    }\n",
       "</style>\n",
       "<table border=\"1\" class=\"dataframe\">\n",
       "  <thead>\n",
       "    <tr style=\"text-align: right;\">\n",
       "      <th></th>\n",
       "      <th>Datetime</th>\n",
       "      <th>PM10</th>\n",
       "      <th>PM2.5</th>\n",
       "      <th>BLH</th>\n",
       "      <th>RAIN</th>\n",
       "      <th>PRE</th>\n",
       "      <th>TD</th>\n",
       "      <th>T</th>\n",
       "      <th>V10</th>\n",
       "      <th>U10</th>\n",
       "    </tr>\n",
       "  </thead>\n",
       "  <tbody>\n",
       "    <tr>\n",
       "      <th>count</th>\n",
       "      <td>52584</td>\n",
       "      <td>50269.000000</td>\n",
       "      <td>50268.000000</td>\n",
       "      <td>52584.000000</td>\n",
       "      <td>52584.000000</td>\n",
       "      <td>52584.000000</td>\n",
       "      <td>52584.000000</td>\n",
       "      <td>52584.000000</td>\n",
       "      <td>52584.000000</td>\n",
       "      <td>52584.000000</td>\n",
       "    </tr>\n",
       "    <tr>\n",
       "      <th>mean</th>\n",
       "      <td>2020-01-01 11:30:00</td>\n",
       "      <td>87.565839</td>\n",
       "      <td>58.067052</td>\n",
       "      <td>574.777863</td>\n",
       "      <td>0.000193</td>\n",
       "      <td>93505.842951</td>\n",
       "      <td>291.166602</td>\n",
       "      <td>297.375681</td>\n",
       "      <td>0.106515</td>\n",
       "      <td>0.974618</td>\n",
       "    </tr>\n",
       "    <tr>\n",
       "      <th>min</th>\n",
       "      <td>2017-01-01 00:00:00</td>\n",
       "      <td>0.000000</td>\n",
       "      <td>2.650000</td>\n",
       "      <td>11.374372</td>\n",
       "      <td>0.000000</td>\n",
       "      <td>91961.690000</td>\n",
       "      <td>271.636230</td>\n",
       "      <td>281.320920</td>\n",
       "      <td>-3.962082</td>\n",
       "      <td>-10.056665</td>\n",
       "    </tr>\n",
       "    <tr>\n",
       "      <th>25%</th>\n",
       "      <td>2018-07-02 17:45:00</td>\n",
       "      <td>48.500000</td>\n",
       "      <td>32.650000</td>\n",
       "      <td>89.935685</td>\n",
       "      <td>0.000000</td>\n",
       "      <td>93265.985000</td>\n",
       "      <td>287.493265</td>\n",
       "      <td>295.121202</td>\n",
       "      <td>-0.638081</td>\n",
       "      <td>-1.075553</td>\n",
       "    </tr>\n",
       "    <tr>\n",
       "      <th>50%</th>\n",
       "      <td>2020-01-01 11:30:00</td>\n",
       "      <td>79.040000</td>\n",
       "      <td>51.930000</td>\n",
       "      <td>395.612670</td>\n",
       "      <td>0.000000</td>\n",
       "      <td>93525.560000</td>\n",
       "      <td>292.783690</td>\n",
       "      <td>296.948910</td>\n",
       "      <td>-0.015975</td>\n",
       "      <td>1.283106</td>\n",
       "    </tr>\n",
       "    <tr>\n",
       "      <th>75%</th>\n",
       "      <td>2021-07-02 05:15:00</td>\n",
       "      <td>115.760000</td>\n",
       "      <td>76.450000</td>\n",
       "      <td>766.220510</td>\n",
       "      <td>0.000107</td>\n",
       "      <td>93761.891250</td>\n",
       "      <td>295.094600</td>\n",
       "      <td>299.901482</td>\n",
       "      <td>0.792827</td>\n",
       "      <td>2.710442</td>\n",
       "    </tr>\n",
       "    <tr>\n",
       "      <th>max</th>\n",
       "      <td>2022-12-31 23:00:00</td>\n",
       "      <td>932.190000</td>\n",
       "      <td>660.770000</td>\n",
       "      <td>4058.470200</td>\n",
       "      <td>0.017602</td>\n",
       "      <td>94555.690000</td>\n",
       "      <td>298.620850</td>\n",
       "      <td>313.125000</td>\n",
       "      <td>9.051890</td>\n",
       "      <td>8.639411</td>\n",
       "    </tr>\n",
       "    <tr>\n",
       "      <th>std</th>\n",
       "      <td>NaN</td>\n",
       "      <td>50.778580</td>\n",
       "      <td>33.872272</td>\n",
       "      <td>636.017496</td>\n",
       "      <td>0.000621</td>\n",
       "      <td>339.235703</td>\n",
       "      <td>4.574261</td>\n",
       "      <td>4.455868</td>\n",
       "      <td>1.099482</td>\n",
       "      <td>2.392592</td>\n",
       "    </tr>\n",
       "  </tbody>\n",
       "</table>\n",
       "</div>"
      ],
      "text/plain": [
       "                  Datetime          PM10         PM2.5           BLH  \\\n",
       "count                52584  50269.000000  50268.000000  52584.000000   \n",
       "mean   2020-01-01 11:30:00     87.565839     58.067052    574.777863   \n",
       "min    2017-01-01 00:00:00      0.000000      2.650000     11.374372   \n",
       "25%    2018-07-02 17:45:00     48.500000     32.650000     89.935685   \n",
       "50%    2020-01-01 11:30:00     79.040000     51.930000    395.612670   \n",
       "75%    2021-07-02 05:15:00    115.760000     76.450000    766.220510   \n",
       "max    2022-12-31 23:00:00    932.190000    660.770000   4058.470200   \n",
       "std                    NaN     50.778580     33.872272    636.017496   \n",
       "\n",
       "               RAIN           PRE            TD             T           V10  \\\n",
       "count  52584.000000  52584.000000  52584.000000  52584.000000  52584.000000   \n",
       "mean       0.000193  93505.842951    291.166602    297.375681      0.106515   \n",
       "min        0.000000  91961.690000    271.636230    281.320920     -3.962082   \n",
       "25%        0.000000  93265.985000    287.493265    295.121202     -0.638081   \n",
       "50%        0.000000  93525.560000    292.783690    296.948910     -0.015975   \n",
       "75%        0.000107  93761.891250    295.094600    299.901482      0.792827   \n",
       "max        0.017602  94555.690000    298.620850    313.125000      9.051890   \n",
       "std        0.000621    339.235703      4.574261      4.455868      1.099482   \n",
       "\n",
       "                U10  \n",
       "count  52584.000000  \n",
       "mean       0.974618  \n",
       "min      -10.056665  \n",
       "25%       -1.075553  \n",
       "50%        1.283106  \n",
       "75%        2.710442  \n",
       "max        8.639411  \n",
       "std        2.392592  "
      ]
     },
     "execution_count": 12,
     "metadata": {},
     "output_type": "execute_result"
    }
   ],
   "source": [
    "data.describe()"
   ]
  },
  {
   "cell_type": "markdown",
   "id": "37eb7dcb",
   "metadata": {},
   "source": [
    "# Step 2: Time Series Analysis - Exploratory Data Analysis "
   ]
  }
 ],
 "metadata": {
  "kernelspec": {
   "display_name": "Python 3 (ipykernel)",
   "language": "python",
   "name": "python3"
  },
  "language_info": {
   "codemirror_mode": {
    "name": "ipython",
    "version": 3
   },
   "file_extension": ".py",
   "mimetype": "text/x-python",
   "name": "python",
   "nbconvert_exporter": "python",
   "pygments_lexer": "ipython3",
   "version": "3.12.7"
  }
 },
 "nbformat": 4,
 "nbformat_minor": 5
}
